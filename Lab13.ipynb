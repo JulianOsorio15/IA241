{
 "cells": [
  {
   "cell_type": "markdown",
   "id": "stunning-narrative",
   "metadata": {},
   "source": [
    "# Visualize Covid19 Data in Python"
   ]
  },
  {
   "cell_type": "markdown",
   "id": "diverse-count",
   "metadata": {},
   "source": [
    "## data source"
   ]
  },
  {
   "cell_type": "markdown",
   "id": "sonic-walter",
   "metadata": {},
   "source": [
    "The data is from [European Centre for Disease Prevention and Control](https://www.ecdc.europa.eu/en/publications-data/download-todays-data-geographic-distribution-covid-19-cases-worldwide)"
   ]
  },
  {
   "cell_type": "markdown",
   "id": "processed-cricket",
   "metadata": {},
   "source": [
    "![covid image](https://www.jmu.edu/_images/_thumbnails/StopTheSpread-1000x600-RGB-standard-o.png)"
   ]
  },
  {
   "cell_type": "code",
   "execution_count": 1,
   "id": "municipal-allen",
   "metadata": {},
   "outputs": [],
   "source": [
    "%matplotlib inline\n",
    "import pandas"
   ]
  },
  {
   "cell_type": "markdown",
   "id": "expressed-lover",
   "metadata": {},
   "source": [
    "## a quick view of the data"
   ]
  },
  {
   "cell_type": "code",
   "execution_count": 5,
   "id": "convertible-principle",
   "metadata": {},
   "outputs": [
    {
     "data": {
      "text/html": [
       "<div>\n",
       "<style scoped>\n",
       "    .dataframe tbody tr th:only-of-type {\n",
       "        vertical-align: middle;\n",
       "    }\n",
       "\n",
       "    .dataframe tbody tr th {\n",
       "        vertical-align: top;\n",
       "    }\n",
       "\n",
       "    .dataframe thead th {\n",
       "        text-align: right;\n",
       "    }\n",
       "</style>\n",
       "<table border=\"1\" class=\"dataframe\">\n",
       "  <thead>\n",
       "    <tr style=\"text-align: right;\">\n",
       "      <th></th>\n",
       "      <th>dateRep</th>\n",
       "      <th>day</th>\n",
       "      <th>month</th>\n",
       "      <th>year</th>\n",
       "      <th>cases</th>\n",
       "      <th>deaths</th>\n",
       "      <th>countriesAndTerritories</th>\n",
       "      <th>geoId</th>\n",
       "      <th>countryterritoryCode</th>\n",
       "      <th>popData2019</th>\n",
       "      <th>continentExp</th>\n",
       "      <th>Cumulative_number_for_14_days_of_COVID-19_cases_per_100000</th>\n",
       "    </tr>\n",
       "  </thead>\n",
       "  <tbody>\n",
       "    <tr>\n",
       "      <th>0</th>\n",
       "      <td>2020-12-14</td>\n",
       "      <td>14</td>\n",
       "      <td>12</td>\n",
       "      <td>2020</td>\n",
       "      <td>746</td>\n",
       "      <td>6</td>\n",
       "      <td>Afghanistan</td>\n",
       "      <td>AF</td>\n",
       "      <td>AFG</td>\n",
       "      <td>38041757.0</td>\n",
       "      <td>Asia</td>\n",
       "      <td>9.013779</td>\n",
       "    </tr>\n",
       "    <tr>\n",
       "      <th>1</th>\n",
       "      <td>2020-12-13</td>\n",
       "      <td>13</td>\n",
       "      <td>12</td>\n",
       "      <td>2020</td>\n",
       "      <td>298</td>\n",
       "      <td>9</td>\n",
       "      <td>Afghanistan</td>\n",
       "      <td>AF</td>\n",
       "      <td>AFG</td>\n",
       "      <td>38041757.0</td>\n",
       "      <td>Asia</td>\n",
       "      <td>7.052776</td>\n",
       "    </tr>\n",
       "    <tr>\n",
       "      <th>2</th>\n",
       "      <td>2020-12-12</td>\n",
       "      <td>12</td>\n",
       "      <td>12</td>\n",
       "      <td>2020</td>\n",
       "      <td>113</td>\n",
       "      <td>11</td>\n",
       "      <td>Afghanistan</td>\n",
       "      <td>AF</td>\n",
       "      <td>AFG</td>\n",
       "      <td>38041757.0</td>\n",
       "      <td>Asia</td>\n",
       "      <td>6.868768</td>\n",
       "    </tr>\n",
       "    <tr>\n",
       "      <th>3</th>\n",
       "      <td>2020-12-11</td>\n",
       "      <td>11</td>\n",
       "      <td>12</td>\n",
       "      <td>2020</td>\n",
       "      <td>63</td>\n",
       "      <td>10</td>\n",
       "      <td>Afghanistan</td>\n",
       "      <td>AF</td>\n",
       "      <td>AFG</td>\n",
       "      <td>38041757.0</td>\n",
       "      <td>Asia</td>\n",
       "      <td>7.134266</td>\n",
       "    </tr>\n",
       "    <tr>\n",
       "      <th>4</th>\n",
       "      <td>2020-12-10</td>\n",
       "      <td>10</td>\n",
       "      <td>12</td>\n",
       "      <td>2020</td>\n",
       "      <td>202</td>\n",
       "      <td>16</td>\n",
       "      <td>Afghanistan</td>\n",
       "      <td>AF</td>\n",
       "      <td>AFG</td>\n",
       "      <td>38041757.0</td>\n",
       "      <td>Asia</td>\n",
       "      <td>6.968658</td>\n",
       "    </tr>\n",
       "    <tr>\n",
       "      <th>5</th>\n",
       "      <td>2020-12-09</td>\n",
       "      <td>9</td>\n",
       "      <td>12</td>\n",
       "      <td>2020</td>\n",
       "      <td>135</td>\n",
       "      <td>13</td>\n",
       "      <td>Afghanistan</td>\n",
       "      <td>AF</td>\n",
       "      <td>AFG</td>\n",
       "      <td>38041757.0</td>\n",
       "      <td>Asia</td>\n",
       "      <td>6.963401</td>\n",
       "    </tr>\n",
       "    <tr>\n",
       "      <th>6</th>\n",
       "      <td>2020-12-08</td>\n",
       "      <td>8</td>\n",
       "      <td>12</td>\n",
       "      <td>2020</td>\n",
       "      <td>200</td>\n",
       "      <td>6</td>\n",
       "      <td>Afghanistan</td>\n",
       "      <td>AF</td>\n",
       "      <td>AFG</td>\n",
       "      <td>38041757.0</td>\n",
       "      <td>Asia</td>\n",
       "      <td>7.094835</td>\n",
       "    </tr>\n",
       "    <tr>\n",
       "      <th>7</th>\n",
       "      <td>2020-12-07</td>\n",
       "      <td>7</td>\n",
       "      <td>12</td>\n",
       "      <td>2020</td>\n",
       "      <td>210</td>\n",
       "      <td>26</td>\n",
       "      <td>Afghanistan</td>\n",
       "      <td>AF</td>\n",
       "      <td>AFG</td>\n",
       "      <td>38041757.0</td>\n",
       "      <td>Asia</td>\n",
       "      <td>7.215755</td>\n",
       "    </tr>\n",
       "    <tr>\n",
       "      <th>8</th>\n",
       "      <td>2020-12-06</td>\n",
       "      <td>6</td>\n",
       "      <td>12</td>\n",
       "      <td>2020</td>\n",
       "      <td>234</td>\n",
       "      <td>10</td>\n",
       "      <td>Afghanistan</td>\n",
       "      <td>AF</td>\n",
       "      <td>AFG</td>\n",
       "      <td>38041757.0</td>\n",
       "      <td>Asia</td>\n",
       "      <td>7.326160</td>\n",
       "    </tr>\n",
       "    <tr>\n",
       "      <th>9</th>\n",
       "      <td>2020-12-05</td>\n",
       "      <td>5</td>\n",
       "      <td>12</td>\n",
       "      <td>2020</td>\n",
       "      <td>235</td>\n",
       "      <td>18</td>\n",
       "      <td>Afghanistan</td>\n",
       "      <td>AF</td>\n",
       "      <td>AFG</td>\n",
       "      <td>38041757.0</td>\n",
       "      <td>Asia</td>\n",
       "      <td>7.115865</td>\n",
       "    </tr>\n",
       "  </tbody>\n",
       "</table>\n",
       "</div>"
      ],
      "text/plain": [
       "     dateRep  day  month  year  cases  deaths countriesAndTerritories geoId  \\\n",
       "0 2020-12-14   14     12  2020    746       6             Afghanistan    AF   \n",
       "1 2020-12-13   13     12  2020    298       9             Afghanistan    AF   \n",
       "2 2020-12-12   12     12  2020    113      11             Afghanistan    AF   \n",
       "3 2020-12-11   11     12  2020     63      10             Afghanistan    AF   \n",
       "4 2020-12-10   10     12  2020    202      16             Afghanistan    AF   \n",
       "5 2020-12-09    9     12  2020    135      13             Afghanistan    AF   \n",
       "6 2020-12-08    8     12  2020    200       6             Afghanistan    AF   \n",
       "7 2020-12-07    7     12  2020    210      26             Afghanistan    AF   \n",
       "8 2020-12-06    6     12  2020    234      10             Afghanistan    AF   \n",
       "9 2020-12-05    5     12  2020    235      18             Afghanistan    AF   \n",
       "\n",
       "  countryterritoryCode  popData2019 continentExp  \\\n",
       "0                  AFG   38041757.0         Asia   \n",
       "1                  AFG   38041757.0         Asia   \n",
       "2                  AFG   38041757.0         Asia   \n",
       "3                  AFG   38041757.0         Asia   \n",
       "4                  AFG   38041757.0         Asia   \n",
       "5                  AFG   38041757.0         Asia   \n",
       "6                  AFG   38041757.0         Asia   \n",
       "7                  AFG   38041757.0         Asia   \n",
       "8                  AFG   38041757.0         Asia   \n",
       "9                  AFG   38041757.0         Asia   \n",
       "\n",
       "   Cumulative_number_for_14_days_of_COVID-19_cases_per_100000  \n",
       "0                                           9.013779           \n",
       "1                                           7.052776           \n",
       "2                                           6.868768           \n",
       "3                                           7.134266           \n",
       "4                                           6.968658           \n",
       "5                                           6.963401           \n",
       "6                                           7.094835           \n",
       "7                                           7.215755           \n",
       "8                                           7.326160           \n",
       "9                                           7.115865           "
      ]
     },
     "execution_count": 5,
     "metadata": {},
     "output_type": "execute_result"
    }
   ],
   "source": [
    "df = pandas.read_excel('s3://osorio-ia241-2021spring/COVID-19-geographic-disbtribution-worldwide-2020-12-14.xls') \n",
    "df[:10]"
   ]
  },
  {
   "cell_type": "markdown",
   "id": "parallel-championship",
   "metadata": {},
   "source": [
    "## trend of the number of cases"
   ]
  },
  {
   "cell_type": "code",
   "execution_count": 9,
   "id": "durable-union",
   "metadata": {},
   "outputs": [],
   "source": [
    "sum_cases_per_day=df.groupby('dateRep').sum()['cases']"
   ]
  },
  {
   "cell_type": "code",
   "execution_count": 8,
   "id": "hearing-light",
   "metadata": {},
   "outputs": [
    {
     "data": {
      "text/plain": [
       "<AxesSubplot:xlabel='dateRep'>"
      ]
     },
     "execution_count": 8,
     "metadata": {},
     "output_type": "execute_result"
    },
    {
     "data": {
      "image/png": "[encoded data removed]",
      "text/plain": [
       "<Figure size 432x288 with 1 Axes>"
      ]
     },
     "metadata": {
      "needs_background": "light"
     },
     "output_type": "display_data"
    }
   ],
   "source": [
    "sum_cases_per_day.plot()"
   ]
  },
  {
   "cell_type": "markdown",
   "id": "amateur-sociology",
   "metadata": {},
   "source": [
    "## the top 10 countries with the highest deaths"
   ]
  },
  {
   "cell_type": "code",
   "execution_count": 13,
   "id": "lasting-documentary",
   "metadata": {},
   "outputs": [],
   "source": [
    "sum_deaths_per_country=df.groupby('countriesAndTerritories').sum()['deaths']"
   ]
  },
  {
   "cell_type": "code",
   "execution_count": 15,
   "id": "polished-introduction",
   "metadata": {},
   "outputs": [
    {
     "data": {
      "text/plain": [
       "<AxesSubplot:xlabel='countriesAndTerritories'>"
      ]
     },
     "execution_count": 15,
     "metadata": {},
     "output_type": "execute_result"
    },
    {
     "data": {
      "image/png": "[encoded data removed]",
      "text/plain": [
       "<Figure size 432x288 with 1 Axes>"
      ]
     },
     "metadata": {
      "needs_background": "light"
     },
     "output_type": "display_data"
    }
   ],
   "source": [
    "sum_deaths_per_country.nlargest(10).plot.bar()"
   ]
  },
  {
   "cell_type": "markdown",
   "id": "atomic-preparation",
   "metadata": {},
   "source": [
    "## list of all countries"
   ]
  },
  {
   "cell_type": "code",
   "execution_count": 16,
   "id": "moving-music",
   "metadata": {},
   "outputs": [
    {
     "data": {
      "text/plain": [
       "array(['Afghanistan', 'Albania', 'Algeria', 'Andorra', 'Angola',\n",
       "       'Anguilla', 'Antigua_and_Barbuda', 'Argentina', 'Armenia', 'Aruba',\n",
       "       'Australia', 'Austria', 'Azerbaijan', 'Bahamas', 'Bahrain',\n",
       "       'Bangladesh', 'Barbados', 'Belarus', 'Belgium', 'Belize', 'Benin',\n",
       "       'Bermuda', 'Bhutan', 'Bolivia',\n",
       "       'Bonaire, Saint Eustatius and Saba', 'Bosnia_and_Herzegovina',\n",
       "       'Botswana', 'Brazil', 'British_Virgin_Islands',\n",
       "       'Brunei_Darussalam', 'Bulgaria', 'Burkina_Faso', 'Burundi',\n",
       "       'Cambodia', 'Cameroon', 'Canada', 'Cape_Verde',\n",
       "       'Cases_on_an_international_conveyance_Japan', 'Cayman_Islands',\n",
       "       'Central_African_Republic', 'Chad', 'Chile', 'China', 'Colombia',\n",
       "       'Comoros', 'Congo', 'Costa_Rica', 'Cote_dIvoire', 'Croatia',\n",
       "       'Cuba', 'CuraÃ§ao', 'Cyprus', 'Czechia',\n",
       "       'Democratic_Republic_of_the_Congo', 'Denmark', 'Djibouti',\n",
       "       'Dominica', 'Dominican_Republic', 'Ecuador', 'Egypt',\n",
       "       'El_Salvador', 'Equatorial_Guinea', 'Eritrea', 'Estonia',\n",
       "       'Eswatini', 'Ethiopia', 'Falkland_Islands_(Malvinas)',\n",
       "       'Faroe_Islands', 'Fiji', 'Finland', 'France', 'French_Polynesia',\n",
       "       'Gabon', 'Gambia', 'Georgia', 'Germany', 'Ghana', 'Gibraltar',\n",
       "       'Greece', 'Greenland', 'Grenada', 'Guam', 'Guatemala', 'Guernsey',\n",
       "       'Guinea', 'Guinea_Bissau', 'Guyana', 'Haiti', 'Holy_See',\n",
       "       'Honduras', 'Hungary', 'Iceland', 'India', 'Indonesia', 'Iran',\n",
       "       'Iraq', 'Ireland', 'Isle_of_Man', 'Israel', 'Italy', 'Jamaica',\n",
       "       'Japan', 'Jersey', 'Jordan', 'Kazakhstan', 'Kenya', 'Kosovo',\n",
       "       'Kuwait', 'Kyrgyzstan', 'Laos', 'Latvia', 'Lebanon', 'Lesotho',\n",
       "       'Liberia', 'Libya', 'Liechtenstein', 'Lithuania', 'Luxembourg',\n",
       "       'Madagascar', 'Malawi', 'Malaysia', 'Maldives', 'Mali', 'Malta',\n",
       "       'Marshall_Islands', 'Mauritania', 'Mauritius', 'Mexico', 'Moldova',\n",
       "       'Monaco', 'Mongolia', 'Montenegro', 'Montserrat', 'Morocco',\n",
       "       'Mozambique', 'Myanmar', 'Namibia', 'Nepal', 'Netherlands',\n",
       "       'New_Caledonia', 'New_Zealand', 'Nicaragua', 'Niger', 'Nigeria',\n",
       "       'North_Macedonia', 'Northern_Mariana_Islands', 'Norway', 'Oman',\n",
       "       'Pakistan', 'Palestine', 'Panama', 'Papua_New_Guinea', 'Paraguay',\n",
       "       'Peru', 'Philippines', 'Poland', 'Portugal', 'Puerto_Rico',\n",
       "       'Qatar', 'Romania', 'Russia', 'Rwanda', 'Saint_Kitts_and_Nevis',\n",
       "       'Saint_Lucia', 'Saint_Vincent_and_the_Grenadines', 'San_Marino',\n",
       "       'Sao_Tome_and_Principe', 'Saudi_Arabia', 'Senegal', 'Serbia',\n",
       "       'Seychelles', 'Sierra_Leone', 'Singapore', 'Sint_Maarten',\n",
       "       'Slovakia', 'Slovenia', 'Solomon_Islands', 'Somalia',\n",
       "       'South_Africa', 'South_Korea', 'South_Sudan', 'Spain', 'Sri_Lanka',\n",
       "       'Sudan', 'Suriname', 'Sweden', 'Switzerland', 'Syria', 'Taiwan',\n",
       "       'Tajikistan', 'Thailand', 'Timor_Leste', 'Togo',\n",
       "       'Trinidad_and_Tobago', 'Tunisia', 'Turkey',\n",
       "       'Turks_and_Caicos_islands', 'Uganda', 'Ukraine',\n",
       "       'United_Arab_Emirates', 'United_Kingdom',\n",
       "       'United_Republic_of_Tanzania', 'United_States_of_America',\n",
       "       'United_States_Virgin_Islands', 'Uruguay', 'Uzbekistan', 'Vanuatu',\n",
       "       'Venezuela', 'Vietnam', 'Wallis_and_Futuna', 'Western_Sahara',\n",
       "       'Yemen', 'Zambia', 'Zimbabwe'], dtype=object)"
      ]
     },
     "execution_count": 16,
     "metadata": {},
     "output_type": "execute_result"
    }
   ],
   "source": [
    "pandas.unique(df['countriesAndTerritories'])"
   ]
  },
  {
   "cell_type": "markdown",
   "id": "organized-socket",
   "metadata": {},
   "source": [
    "## The USA data"
   ]
  },
  {
   "cell_type": "code",
   "execution_count": 18,
   "id": "confidential-trunk",
   "metadata": {},
   "outputs": [
    {
     "data": {
      "text/html": [
       "<div>\n",
       "<style scoped>\n",
       "    .dataframe tbody tr th:only-of-type {\n",
       "        vertical-align: middle;\n",
       "    }\n",
       "\n",
       "    .dataframe tbody tr th {\n",
       "        vertical-align: top;\n",
       "    }\n",
       "\n",
       "    .dataframe thead th {\n",
       "        text-align: right;\n",
       "    }\n",
       "</style>\n",
       "<table border=\"1\" class=\"dataframe\">\n",
       "  <thead>\n",
       "    <tr style=\"text-align: right;\">\n",
       "      <th></th>\n",
       "      <th>dateRep</th>\n",
       "      <th>day</th>\n",
       "      <th>month</th>\n",
       "      <th>year</th>\n",
       "      <th>cases</th>\n",
       "      <th>deaths</th>\n",
       "      <th>countriesAndTerritories</th>\n",
       "      <th>geoId</th>\n",
       "      <th>countryterritoryCode</th>\n",
       "      <th>popData2019</th>\n",
       "      <th>continentExp</th>\n",
       "      <th>Cumulative_number_for_14_days_of_COVID-19_cases_per_100000</th>\n",
       "    </tr>\n",
       "  </thead>\n",
       "  <tbody>\n",
       "    <tr>\n",
       "      <th>59001</th>\n",
       "      <td>2020-12-14</td>\n",
       "      <td>14</td>\n",
       "      <td>12</td>\n",
       "      <td>2020</td>\n",
       "      <td>189723</td>\n",
       "      <td>1340</td>\n",
       "      <td>United_States_of_America</td>\n",
       "      <td>US</td>\n",
       "      <td>USA</td>\n",
       "      <td>329064917.0</td>\n",
       "      <td>America</td>\n",
       "      <td>873.211592</td>\n",
       "    </tr>\n",
       "    <tr>\n",
       "      <th>59002</th>\n",
       "      <td>2020-12-13</td>\n",
       "      <td>13</td>\n",
       "      <td>12</td>\n",
       "      <td>2020</td>\n",
       "      <td>216017</td>\n",
       "      <td>2315</td>\n",
       "      <td>United_States_of_America</td>\n",
       "      <td>US</td>\n",
       "      <td>USA</td>\n",
       "      <td>329064917.0</td>\n",
       "      <td>America</td>\n",
       "      <td>857.089241</td>\n",
       "    </tr>\n",
       "    <tr>\n",
       "      <th>59003</th>\n",
       "      <td>2020-12-12</td>\n",
       "      <td>12</td>\n",
       "      <td>12</td>\n",
       "      <td>2020</td>\n",
       "      <td>234633</td>\n",
       "      <td>3343</td>\n",
       "      <td>United_States_of_America</td>\n",
       "      <td>US</td>\n",
       "      <td>USA</td>\n",
       "      <td>329064917.0</td>\n",
       "      <td>America</td>\n",
       "      <td>838.514183</td>\n",
       "    </tr>\n",
       "    <tr>\n",
       "      <th>59004</th>\n",
       "      <td>2020-12-11</td>\n",
       "      <td>11</td>\n",
       "      <td>12</td>\n",
       "      <td>2020</td>\n",
       "      <td>224680</td>\n",
       "      <td>2748</td>\n",
       "      <td>United_States_of_America</td>\n",
       "      <td>US</td>\n",
       "      <td>USA</td>\n",
       "      <td>329064917.0</td>\n",
       "      <td>America</td>\n",
       "      <td>830.394205</td>\n",
       "    </tr>\n",
       "    <tr>\n",
       "      <th>59005</th>\n",
       "      <td>2020-12-10</td>\n",
       "      <td>10</td>\n",
       "      <td>12</td>\n",
       "      <td>2020</td>\n",
       "      <td>220025</td>\n",
       "      <td>3124</td>\n",
       "      <td>United_States_of_America</td>\n",
       "      <td>US</td>\n",
       "      <td>USA</td>\n",
       "      <td>329064917.0</td>\n",
       "      <td>America</td>\n",
       "      <td>794.356027</td>\n",
       "    </tr>\n",
       "    <tr>\n",
       "      <th>59006</th>\n",
       "      <td>2020-12-09</td>\n",
       "      <td>9</td>\n",
       "      <td>12</td>\n",
       "      <td>2020</td>\n",
       "      <td>217344</td>\n",
       "      <td>2564</td>\n",
       "      <td>United_States_of_America</td>\n",
       "      <td>US</td>\n",
       "      <td>USA</td>\n",
       "      <td>329064917.0</td>\n",
       "      <td>America</td>\n",
       "      <td>784.195114</td>\n",
       "    </tr>\n",
       "    <tr>\n",
       "      <th>59007</th>\n",
       "      <td>2020-12-08</td>\n",
       "      <td>8</td>\n",
       "      <td>12</td>\n",
       "      <td>2020</td>\n",
       "      <td>197334</td>\n",
       "      <td>1433</td>\n",
       "      <td>United_States_of_America</td>\n",
       "      <td>US</td>\n",
       "      <td>USA</td>\n",
       "      <td>329064917.0</td>\n",
       "      <td>America</td>\n",
       "      <td>769.896719</td>\n",
       "    </tr>\n",
       "    <tr>\n",
       "      <th>59008</th>\n",
       "      <td>2020-12-07</td>\n",
       "      <td>7</td>\n",
       "      <td>12</td>\n",
       "      <td>2020</td>\n",
       "      <td>173432</td>\n",
       "      <td>1111</td>\n",
       "      <td>United_States_of_America</td>\n",
       "      <td>US</td>\n",
       "      <td>USA</td>\n",
       "      <td>329064917.0</td>\n",
       "      <td>America</td>\n",
       "      <td>762.794473</td>\n",
       "    </tr>\n",
       "    <tr>\n",
       "      <th>59009</th>\n",
       "      <td>2020-12-06</td>\n",
       "      <td>6</td>\n",
       "      <td>12</td>\n",
       "      <td>2020</td>\n",
       "      <td>211933</td>\n",
       "      <td>2203</td>\n",
       "      <td>United_States_of_America</td>\n",
       "      <td>US</td>\n",
       "      <td>USA</td>\n",
       "      <td>329064917.0</td>\n",
       "      <td>America</td>\n",
       "      <td>757.944062</td>\n",
       "    </tr>\n",
       "    <tr>\n",
       "      <th>59010</th>\n",
       "      <td>2020-12-05</td>\n",
       "      <td>5</td>\n",
       "      <td>12</td>\n",
       "      <td>2020</td>\n",
       "      <td>231930</td>\n",
       "      <td>2680</td>\n",
       "      <td>United_States_of_America</td>\n",
       "      <td>US</td>\n",
       "      <td>USA</td>\n",
       "      <td>329064917.0</td>\n",
       "      <td>America</td>\n",
       "      <td>746.870564</td>\n",
       "    </tr>\n",
       "  </tbody>\n",
       "</table>\n",
       "</div>"
      ],
      "text/plain": [
       "         dateRep  day  month  year   cases  deaths   countriesAndTerritories  \\\n",
       "59001 2020-12-14   14     12  2020  189723    1340  United_States_of_America   \n",
       "59002 2020-12-13   13     12  2020  216017    2315  United_States_of_America   \n",
       "59003 2020-12-12   12     12  2020  234633    3343  United_States_of_America   \n",
       "59004 2020-12-11   11     12  2020  224680    2748  United_States_of_America   \n",
       "59005 2020-12-10   10     12  2020  220025    3124  United_States_of_America   \n",
       "59006 2020-12-09    9     12  2020  217344    2564  United_States_of_America   \n",
       "59007 2020-12-08    8     12  2020  197334    1433  United_States_of_America   \n",
       "59008 2020-12-07    7     12  2020  173432    1111  United_States_of_America   \n",
       "59009 2020-12-06    6     12  2020  211933    2203  United_States_of_America   \n",
       "59010 2020-12-05    5     12  2020  231930    2680  United_States_of_America   \n",
       "\n",
       "      geoId countryterritoryCode  popData2019 continentExp  \\\n",
       "59001    US                  USA  329064917.0      America   \n",
       "59002    US                  USA  329064917.0      America   \n",
       "59003    US                  USA  329064917.0      America   \n",
       "59004    US                  USA  329064917.0      America   \n",
       "59005    US                  USA  329064917.0      America   \n",
       "59006    US                  USA  329064917.0      America   \n",
       "59007    US                  USA  329064917.0      America   \n",
       "59008    US                  USA  329064917.0      America   \n",
       "59009    US                  USA  329064917.0      America   \n",
       "59010    US                  USA  329064917.0      America   \n",
       "\n",
       "       Cumulative_number_for_14_days_of_COVID-19_cases_per_100000  \n",
       "59001                                         873.211592           \n",
       "59002                                         857.089241           \n",
       "59003                                         838.514183           \n",
       "59004                                         830.394205           \n",
       "59005                                         794.356027           \n",
       "59006                                         784.195114           \n",
       "59007                                         769.896719           \n",
       "59008                                         762.794473           \n",
       "59009                                         757.944062           \n",
       "59010                                         746.870564           "
      ]
     },
     "execution_count": 18,
     "metadata": {},
     "output_type": "execute_result"
    }
   ],
   "source": [
    "usa_data = df.loc[ df['countriesAndTerritories']=='United_States_of_America']\n",
    "usa_data[:10]"
   ]
  },
  {
   "cell_type": "markdown",
   "id": "younger-hometown",
   "metadata": {},
   "source": [
    "## how the death is related to the # of cases in the USA"
   ]
  },
  {
   "cell_type": "code",
   "execution_count": 20,
   "id": "seventh-confidence",
   "metadata": {},
   "outputs": [
    {
     "data": {
      "text/plain": [
       "<AxesSubplot:xlabel='cases', ylabel='deaths'>"
      ]
     },
     "execution_count": 20,
     "metadata": {},
     "output_type": "execute_result"
    },
    {
     "data": {
      "image/png": "[encoded data removed]",
      "text/plain": [
       "<Figure size 432x288 with 2 Axes>"
      ]
     },
     "metadata": {
      "needs_background": "light"
     },
     "output_type": "display_data"
    }
   ],
   "source": [
    "usa_data.plot.scatter(x='cases',y='deaths',c='month')"
   ]
  },
  {
   "cell_type": "code",
   "execution_count": null,
   "id": "annoying-litigation",
   "metadata": {},
   "outputs": [],
   "source": []
  }
 ],
 "metadata": {
  "kernelspec": {
   "display_name": "conda_python3",
   "language": "python",
   "name": "conda_python3"
  },
  "language_info": {
   "codemirror_mode": {
    "name": "ipython",
    "version": 3
   },
   "file_extension": ".py",
   "mimetype": "text/x-python",
   "name": "python",
   "nbconvert_exporter": "python",
   "pygments_lexer": "ipython3",
   "version": "3.6.13"
  }
 },
 "nbformat": 4,
 "nbformat_minor": 5
}
