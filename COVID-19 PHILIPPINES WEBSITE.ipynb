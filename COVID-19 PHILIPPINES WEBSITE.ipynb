{
 "cells": [
  {
   "cell_type": "markdown",
   "id": "a4959d27",
   "metadata": {},
   "source": [
    "# Analyzing COVID-19 Data in the Philippines"
   ]
  },
  {
   "cell_type": "markdown",
   "id": "0a00b7ef",
   "metadata": {},
   "source": [
    "## Background Information:"
   ]
  },
  {
   "cell_type": "markdown",
   "id": "56edc0f1",
   "metadata": {},
   "source": [
    "The COVID-19 pandemic has spread throughout the globe; The Philippines included. Like the rest of the world, the virus has unfortunately caused many deaths throught the country. The following information and visualiztaion will demonstrate how much of effect the virus had on The Philippines, by defining the total sum of confirmed deaths and sases that occurred in 2020."
   ]
  },
  {
   "cell_type": "markdown",
   "id": "50479ec3",
   "metadata": {},
   "source": [
    "## Data Source"
   ]
  },
  {
   "cell_type": "markdown",
   "id": "5a11f316",
   "metadata": {},
   "source": [
    "The data was downloaded from [European Centre for Disease Prevention and Control](https://www.ecdc.europa.eu/en/publications-data/download-todays-data-geographic-distribution-covid-19-cases-worldwide)"
   ]
  },
  {
   "cell_type": "markdown",
   "id": "2c5665d0",
   "metadata": {},
   "source": [
    "![Image of Philippines President talk about COVID vaccine](https://assets2.rappler.com/2020/09/1602687771-Duterte-IATF-EID-September-21-2020-003-546.jpg)"
   ]
  },
  {
   "cell_type": "markdown",
   "id": "76a79ad9",
   "metadata": {},
   "source": [
    "The image was uploaded from [Rappler](https://www.rappler.com/nation/duterte-wants-entire-philippine-population-given-covid-19-vaccine-for-free)"
   ]
  },
  {
   "cell_type": "code",
   "execution_count": 1,
   "id": "e19a6c20",
   "metadata": {},
   "outputs": [],
   "source": [
    "%matplotlib inline\n",
    "import pandas"
   ]
  },
  {
   "cell_type": "markdown",
   "id": "f70ba269",
   "metadata": {},
   "source": [
    "## Philippines COVID-19 Data"
   ]
  },
  {
   "cell_type": "code",
   "execution_count": 44,
   "id": "9379ff78",
   "metadata": {},
   "outputs": [
    {
     "data": {
      "text/html": [
       "<div>\n",
       "<style scoped>\n",
       "    .dataframe tbody tr th:only-of-type {\n",
       "        vertical-align: middle;\n",
       "    }\n",
       "\n",
       "    .dataframe tbody tr th {\n",
       "        vertical-align: top;\n",
       "    }\n",
       "\n",
       "    .dataframe thead th {\n",
       "        text-align: right;\n",
       "    }\n",
       "</style>\n",
       "<table border=\"1\" class=\"dataframe\">\n",
       "  <thead>\n",
       "    <tr style=\"text-align: right;\">\n",
       "      <th></th>\n",
       "      <th>dateRep</th>\n",
       "      <th>day</th>\n",
       "      <th>month</th>\n",
       "      <th>year</th>\n",
       "      <th>cases</th>\n",
       "      <th>deaths</th>\n",
       "      <th>countriesAndTerritories</th>\n",
       "      <th>geoId</th>\n",
       "      <th>countryterritoryCode</th>\n",
       "      <th>popData2019</th>\n",
       "      <th>continentExp</th>\n",
       "      <th>Cumulative_number_for_14_days_of_COVID-19_cases_per_100000</th>\n",
       "    </tr>\n",
       "  </thead>\n",
       "  <tbody>\n",
       "    <tr>\n",
       "      <th>45046</th>\n",
       "      <td>2020-12-14</td>\n",
       "      <td>14</td>\n",
       "      <td>12</td>\n",
       "      <td>2020</td>\n",
       "      <td>1069</td>\n",
       "      <td>3</td>\n",
       "      <td>Philippines</td>\n",
       "      <td>PH</td>\n",
       "      <td>PHL</td>\n",
       "      <td>108116622.0</td>\n",
       "      <td>Asia</td>\n",
       "      <td>18.069377</td>\n",
       "    </tr>\n",
       "    <tr>\n",
       "      <th>45047</th>\n",
       "      <td>2020-12-13</td>\n",
       "      <td>13</td>\n",
       "      <td>12</td>\n",
       "      <td>2020</td>\n",
       "      <td>1292</td>\n",
       "      <td>21</td>\n",
       "      <td>Philippines</td>\n",
       "      <td>PH</td>\n",
       "      <td>PHL</td>\n",
       "      <td>108116622.0</td>\n",
       "      <td>Asia</td>\n",
       "      <td>18.992454</td>\n",
       "    </tr>\n",
       "    <tr>\n",
       "      <th>45048</th>\n",
       "      <td>2020-12-12</td>\n",
       "      <td>12</td>\n",
       "      <td>12</td>\n",
       "      <td>2020</td>\n",
       "      <td>1499</td>\n",
       "      <td>8</td>\n",
       "      <td>Philippines</td>\n",
       "      <td>PH</td>\n",
       "      <td>PHL</td>\n",
       "      <td>108116622.0</td>\n",
       "      <td>Asia</td>\n",
       "      <td>19.535387</td>\n",
       "    </tr>\n",
       "    <tr>\n",
       "      <th>45049</th>\n",
       "      <td>2020-12-11</td>\n",
       "      <td>11</td>\n",
       "      <td>12</td>\n",
       "      <td>2020</td>\n",
       "      <td>1376</td>\n",
       "      <td>24</td>\n",
       "      <td>Philippines</td>\n",
       "      <td>PH</td>\n",
       "      <td>PHL</td>\n",
       "      <td>108116622.0</td>\n",
       "      <td>Asia</td>\n",
       "      <td>19.648228</td>\n",
       "    </tr>\n",
       "    <tr>\n",
       "      <th>45050</th>\n",
       "      <td>2020-12-10</td>\n",
       "      <td>10</td>\n",
       "      <td>12</td>\n",
       "      <td>2020</td>\n",
       "      <td>1379</td>\n",
       "      <td>7</td>\n",
       "      <td>Philippines</td>\n",
       "      <td>PH</td>\n",
       "      <td>PHL</td>\n",
       "      <td>108116622.0</td>\n",
       "      <td>Asia</td>\n",
       "      <td>19.653777</td>\n",
       "    </tr>\n",
       "    <tr>\n",
       "      <th>45051</th>\n",
       "      <td>2020-12-09</td>\n",
       "      <td>9</td>\n",
       "      <td>12</td>\n",
       "      <td>2020</td>\n",
       "      <td>1386</td>\n",
       "      <td>98</td>\n",
       "      <td>Philippines</td>\n",
       "      <td>PH</td>\n",
       "      <td>PHL</td>\n",
       "      <td>108116622.0</td>\n",
       "      <td>Asia</td>\n",
       "      <td>19.481741</td>\n",
       "    </tr>\n",
       "    <tr>\n",
       "      <th>45052</th>\n",
       "      <td>2020-12-08</td>\n",
       "      <td>8</td>\n",
       "      <td>12</td>\n",
       "      <td>2020</td>\n",
       "      <td>1565</td>\n",
       "      <td>18</td>\n",
       "      <td>Philippines</td>\n",
       "      <td>PH</td>\n",
       "      <td>PHL</td>\n",
       "      <td>108116622.0</td>\n",
       "      <td>Asia</td>\n",
       "      <td>19.224611</td>\n",
       "    </tr>\n",
       "    <tr>\n",
       "      <th>45053</th>\n",
       "      <td>2020-12-07</td>\n",
       "      <td>7</td>\n",
       "      <td>12</td>\n",
       "      <td>2020</td>\n",
       "      <td>1765</td>\n",
       "      <td>28</td>\n",
       "      <td>Philippines</td>\n",
       "      <td>PH</td>\n",
       "      <td>PHL</td>\n",
       "      <td>108116622.0</td>\n",
       "      <td>Asia</td>\n",
       "      <td>19.438269</td>\n",
       "    </tr>\n",
       "    <tr>\n",
       "      <th>45054</th>\n",
       "      <td>2020-12-06</td>\n",
       "      <td>6</td>\n",
       "      <td>12</td>\n",
       "      <td>2020</td>\n",
       "      <td>1724</td>\n",
       "      <td>17</td>\n",
       "      <td>Philippines</td>\n",
       "      <td>PH</td>\n",
       "      <td>PHL</td>\n",
       "      <td>108116622.0</td>\n",
       "      <td>Asia</td>\n",
       "      <td>19.624180</td>\n",
       "    </tr>\n",
       "    <tr>\n",
       "      <th>45055</th>\n",
       "      <td>2020-12-05</td>\n",
       "      <td>5</td>\n",
       "      <td>12</td>\n",
       "      <td>2020</td>\n",
       "      <td>932</td>\n",
       "      <td>63</td>\n",
       "      <td>Philippines</td>\n",
       "      <td>PH</td>\n",
       "      <td>PHL</td>\n",
       "      <td>108116622.0</td>\n",
       "      <td>Asia</td>\n",
       "      <td>19.680600</td>\n",
       "    </tr>\n",
       "    <tr>\n",
       "      <th>45056</th>\n",
       "      <td>2020-12-04</td>\n",
       "      <td>4</td>\n",
       "      <td>12</td>\n",
       "      <td>2020</td>\n",
       "      <td>1056</td>\n",
       "      <td>10</td>\n",
       "      <td>Philippines</td>\n",
       "      <td>PH</td>\n",
       "      <td>PHL</td>\n",
       "      <td>108116622.0</td>\n",
       "      <td>Asia</td>\n",
       "      <td>20.332674</td>\n",
       "    </tr>\n",
       "    <tr>\n",
       "      <th>45057</th>\n",
       "      <td>2020-12-03</td>\n",
       "      <td>3</td>\n",
       "      <td>12</td>\n",
       "      <td>2020</td>\n",
       "      <td>1432</td>\n",
       "      <td>18</td>\n",
       "      <td>Philippines</td>\n",
       "      <td>PH</td>\n",
       "      <td>PHL</td>\n",
       "      <td>108116622.0</td>\n",
       "      <td>Asia</td>\n",
       "      <td>20.588879</td>\n",
       "    </tr>\n",
       "    <tr>\n",
       "      <th>45058</th>\n",
       "      <td>2020-12-02</td>\n",
       "      <td>2</td>\n",
       "      <td>12</td>\n",
       "      <td>2020</td>\n",
       "      <td>1295</td>\n",
       "      <td>26</td>\n",
       "      <td>Philippines</td>\n",
       "      <td>PH</td>\n",
       "      <td>PHL</td>\n",
       "      <td>108116622.0</td>\n",
       "      <td>Asia</td>\n",
       "      <td>20.539857</td>\n",
       "    </tr>\n",
       "    <tr>\n",
       "      <th>45059</th>\n",
       "      <td>2020-12-01</td>\n",
       "      <td>1</td>\n",
       "      <td>12</td>\n",
       "      <td>2020</td>\n",
       "      <td>1766</td>\n",
       "      <td>19</td>\n",
       "      <td>Philippines</td>\n",
       "      <td>PH</td>\n",
       "      <td>PHL</td>\n",
       "      <td>108116622.0</td>\n",
       "      <td>Asia</td>\n",
       "      <td>20.400193</td>\n",
       "    </tr>\n",
       "    <tr>\n",
       "      <th>45060</th>\n",
       "      <td>2020-11-30</td>\n",
       "      <td>30</td>\n",
       "      <td>11</td>\n",
       "      <td>2020</td>\n",
       "      <td>2067</td>\n",
       "      <td>40</td>\n",
       "      <td>Philippines</td>\n",
       "      <td>PH</td>\n",
       "      <td>PHL</td>\n",
       "      <td>108116622.0</td>\n",
       "      <td>Asia</td>\n",
       "      <td>20.372446</td>\n",
       "    </tr>\n",
       "  </tbody>\n",
       "</table>\n",
       "</div>"
      ],
      "text/plain": [
       "         dateRep  day  month  year  cases  deaths countriesAndTerritories  \\\n",
       "45046 2020-12-14   14     12  2020   1069       3             Philippines   \n",
       "45047 2020-12-13   13     12  2020   1292      21             Philippines   \n",
       "45048 2020-12-12   12     12  2020   1499       8             Philippines   \n",
       "45049 2020-12-11   11     12  2020   1376      24             Philippines   \n",
       "45050 2020-12-10   10     12  2020   1379       7             Philippines   \n",
       "45051 2020-12-09    9     12  2020   1386      98             Philippines   \n",
       "45052 2020-12-08    8     12  2020   1565      18             Philippines   \n",
       "45053 2020-12-07    7     12  2020   1765      28             Philippines   \n",
       "45054 2020-12-06    6     12  2020   1724      17             Philippines   \n",
       "45055 2020-12-05    5     12  2020    932      63             Philippines   \n",
       "45056 2020-12-04    4     12  2020   1056      10             Philippines   \n",
       "45057 2020-12-03    3     12  2020   1432      18             Philippines   \n",
       "45058 2020-12-02    2     12  2020   1295      26             Philippines   \n",
       "45059 2020-12-01    1     12  2020   1766      19             Philippines   \n",
       "45060 2020-11-30   30     11  2020   2067      40             Philippines   \n",
       "\n",
       "      geoId countryterritoryCode  popData2019 continentExp  \\\n",
       "45046    PH                  PHL  108116622.0         Asia   \n",
       "45047    PH                  PHL  108116622.0         Asia   \n",
       "45048    PH                  PHL  108116622.0         Asia   \n",
       "45049    PH                  PHL  108116622.0         Asia   \n",
       "45050    PH                  PHL  108116622.0         Asia   \n",
       "45051    PH                  PHL  108116622.0         Asia   \n",
       "45052    PH                  PHL  108116622.0         Asia   \n",
       "45053    PH                  PHL  108116622.0         Asia   \n",
       "45054    PH                  PHL  108116622.0         Asia   \n",
       "45055    PH                  PHL  108116622.0         Asia   \n",
       "45056    PH                  PHL  108116622.0         Asia   \n",
       "45057    PH                  PHL  108116622.0         Asia   \n",
       "45058    PH                  PHL  108116622.0         Asia   \n",
       "45059    PH                  PHL  108116622.0         Asia   \n",
       "45060    PH                  PHL  108116622.0         Asia   \n",
       "\n",
       "       Cumulative_number_for_14_days_of_COVID-19_cases_per_100000  \n",
       "45046                                          18.069377           \n",
       "45047                                          18.992454           \n",
       "45048                                          19.535387           \n",
       "45049                                          19.648228           \n",
       "45050                                          19.653777           \n",
       "45051                                          19.481741           \n",
       "45052                                          19.224611           \n",
       "45053                                          19.438269           \n",
       "45054                                          19.624180           \n",
       "45055                                          19.680600           \n",
       "45056                                          20.332674           \n",
       "45057                                          20.588879           \n",
       "45058                                          20.539857           \n",
       "45059                                          20.400193           \n",
       "45060                                          20.372446           "
      ]
     },
     "execution_count": 44,
     "metadata": {},
     "output_type": "execute_result"
    }
   ],
   "source": [
    "df = pandas.read_excel('s3://osorio-ia241-2021spring/COVID-19-geographic-disbtribution-worldwide-2020-12-14.xls')\n",
    "Philippines_data = df.loc[df['countriesAndTerritories'] == 'Philippines'] \n",
    "Philippines_data[:15] #top 15 rows"
   ]
  },
  {
   "cell_type": "markdown",
   "id": "b02e0f12",
   "metadata": {},
   "source": [
    "## Sum of Confirmed Deaths in The Philippines in 2020"
   ]
  },
  {
   "cell_type": "code",
   "execution_count": 59,
   "id": "2639ab6f",
   "metadata": {},
   "outputs": [
    {
     "data": {
      "text/plain": [
       "8733"
      ]
     },
     "execution_count": 59,
     "metadata": {},
     "output_type": "execute_result"
    }
   ],
   "source": [
    "Philippines_data = df.loc[df['countriesAndTerritories'] == 'Philippines']\n",
    "Philippines_data.sum()['deaths'] "
   ]
  },
  {
   "cell_type": "markdown",
   "id": "32bd98b8",
   "metadata": {},
   "source": [
    "## Sum of Confirmed COVID-19 Cases in The Philippines in 2020"
   ]
  },
  {
   "cell_type": "code",
   "execution_count": 60,
   "id": "d20f346a",
   "metadata": {},
   "outputs": [
    {
     "data": {
      "text/plain": [
       "449400"
      ]
     },
     "execution_count": 60,
     "metadata": {},
     "output_type": "execute_result"
    }
   ],
   "source": [
    "Philippines_data = df.loc[df['countriesAndTerritories'] == 'Philippines']\n",
    "Philippines_data.sum()['cases'] "
   ]
  },
  {
   "cell_type": "markdown",
   "id": "ae60cd96",
   "metadata": {},
   "source": [
    "\n",
    "## How the Number of Cases is Related to the Number of Deaths"
   ]
  },
  {
   "cell_type": "code",
   "execution_count": 67,
   "id": "83bafd8d",
   "metadata": {},
   "outputs": [
    {
     "data": {
      "text/plain": [
       "<AxesSubplot:xlabel='cases', ylabel='deaths'>"
      ]
     },
     "execution_count": 67,
     "metadata": {},
     "output_type": "execute_result"
    },
    {
     "data": {
      "image/png": "[encoded data removed]",
      "text/plain": [
       "<Figure size 432x288 with 2 Axes>"
      ]
     },
     "metadata": {
      "needs_background": "light"
     },
     "output_type": "display_data"
    }
   ],
   "source": [
    "Philippines_data.plot.scatter(x='cases',y='deaths',c='month')"
   ]
  },
  {
   "cell_type": "markdown",
   "id": "5f05248f",
   "metadata": {},
   "source": [
    "## Conclusion and Limitations"
   ]
  },
  {
   "cell_type": "markdown",
   "id": "1cade085",
   "metadata": {},
   "source": [
    "The analysis concludes that the total number of deaths in the Philipines was equal to 8,733 people, and the total number of COVID-19 cases was 449,400. When comparing the two variables, it is obvious that there is a direct correlation. Displayed by trend in the scatterplot chart above, as the number of cases increased, the number of deaths also increased. There were minimal limitations to the performance of completing this website, however the analysis was concluded with the information of only a single source. Adding more sources to the analysis would make the product more credible. "
   ]
  },
  {
   "cell_type": "markdown",
   "id": "cdd78f1c",
   "metadata": {},
   "source": [
    "## Author Information"
   ]
  },
  {
   "cell_type": "markdown",
   "id": "72ba1099",
   "metadata": {},
   "source": [
    "Name: Julian Osorio"
   ]
  },
  {
   "cell_type": "markdown",
   "id": "0683cd87",
   "metadata": {},
   "source": [
    "Analyst Student at James Madison University"
   ]
  },
  {
   "cell_type": "markdown",
   "id": "b9935423",
   "metadata": {},
   "source": [
    "E-mail: osoriojt@dukes.jmu.edu"
   ]
  },
  {
   "cell_type": "code",
   "execution_count": null,
   "id": "064c7c56",
   "metadata": {},
   "outputs": [],
   "source": []
  }
 ],
 "metadata": {
  "kernelspec": {
   "display_name": "conda_python3",
   "language": "python",
   "name": "conda_python3"
  },
  "language_info": {
   "codemirror_mode": {
    "name": "ipython",
    "version": 3
   },
   "file_extension": ".py",
   "mimetype": "text/x-python",
   "name": "python",
   "nbconvert_exporter": "python",
   "pygments_lexer": "ipython3",
   "version": "3.6.13"
  }
 },
 "nbformat": 4,
 "nbformat_minor": 5
}
